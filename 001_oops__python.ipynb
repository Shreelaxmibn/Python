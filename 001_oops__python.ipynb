{
 "cells": [
  {
   "cell_type": "markdown",
   "id": "baa3590e",
   "metadata": {},
   "source": [
    "Object-oriented programming (OOP) is a programming paradigm that uses objects to structure and organize code. In Python, as in many other programming languages, there are several key components or parts of OOP. These components help developers create organized, maintainable, and reusable code. Here are the essential OOP parts in Python:\n",
    "\n",
    "Class:A class is a blueprint for creating objects. It defines attributes (variables) and methods (functions) that objects created from the class will have. Classes serve as templates for objects.\n",
    "Example: class Dog: defines a class for representing dogs.\n",
    "Object:\n",
    "\n",
    "Object: An object is an instance of a class. It is a concrete realization of the blueprint defined by the class, with its own set of attributes and methods.\n",
    "Example: my_dog = Dog(\"Buddy\") creates an object my_dog based on the Dog class.\n",
    "Attributes:\n",
    "\n",
    "Attributes : are variables that belong to an object or class. They represent the data associated with objects and define their characteristics or properties.\n",
    "Example: In a Person class, name and age could be attributes.\n",
    "Methods:\n",
    "\n",
    "Methods : are functions defined within a class that operate on the class's attributes. They represent the behavior or actions that objects of the class can perform.\n",
    "Example: In a Car class, start_engine() and stop_engine() could be methods.\n",
    "Constructor (init method):\n",
    "\n",
    "The __init__ method : is a special method in Python that initializes the attributes of an object when it is created. It's also known as the constructor.\n",
    "Example: def __init__(self, name, age): initializes attributes in a Person class.\n",
    "Inheritance:\n",
    "\n",
    "Inheritance : allows a class (subclass or derived class) to inherit attributes and methods from another class (superclass or base class). It promotes code reuse and supports the \"is-a\" relationship.\n",
    "Example: class Cat(Animal): creates a Cat subclass that inherits from an Animal superclass.\n",
    "Polymorphism:\n",
    "\n",
    "Polymorphism : allows objects of different classes to be treated as objects of a common superclass. It enables you to write code that works with objects in a more generic way, promoting flexibility and code reuse.\n",
    "Example: A speak() method in both Dog and Cat classes can be called in a polymorphic way.\n",
    "Encapsulation:\n",
    "\n",
    "Encapsulation : is the concept of bundling data (attributes) and the methods that operate on that data within a single unit (a class). It hides the internal implementation details from external code.\n",
    "Example: Using private attributes and getter/setter methods to encapsulate data.\n",
    "Abstraction:\n",
    "\n",
    "Abstraction : is the process of simplifying complex systems by modeling classes based on real-world entities and focusing on relevant details while hiding unnecessary complexity.\n",
    "Example: Providing high-level methods that abstract the internal implementation details"
   ]
  },
  {
   "cell_type": "code",
   "execution_count": 31,
   "id": "d15e3777",
   "metadata": {},
   "outputs": [
    {
     "name": "stdout",
     "output_type": "stream",
     "text": [
      "My dog's name is Buddy\n"
     ]
    }
   ],
   "source": [
    "class Dog:\n",
    "    def __init__(self, name):\n",
    "        self.name = name\n",
    "\n",
    "# Create a dog object\n",
    "my_dog = Dog(\"Buddy\")\n",
    "\n",
    "# Access and print the dog's name\n",
    "print(\"My dog's name is\", my_dog.name)  # Output: My dog's name is Buddy"
   ]
  },
  {
   "cell_type": "code",
   "execution_count": 6,
   "id": "aeef4c2b",
   "metadata": {},
   "outputs": [
    {
     "name": "stdout",
     "output_type": "stream",
     "text": [
      "Count: 2\n"
     ]
    }
   ],
   "source": [
    "class Counter:\n",
    "    def __init__(self):\n",
    "        self.count = 0\n",
    "\n",
    "    def increment(self):\n",
    "        self.count += 1\n",
    "\n",
    "    def get_count(self):\n",
    "        return self.count\n",
    "\n",
    "# Create a counter object\n",
    "my_counter = Counter()\n",
    "\n",
    "# Increment the counter and get the count\n",
    "my_counter.increment()\n",
    "my_counter.increment()\n",
    "print(\"Count:\", my_counter.get_count())  # Output: Count: 2"
   ]
  },
  {
   "cell_type": "code",
   "execution_count": 1,
   "id": "e75bfe53",
   "metadata": {},
   "outputs": [
    {
     "name": "stdout",
     "output_type": "stream",
     "text": [
      "Buddy\n",
      "Max is barking.\n"
     ]
    }
   ],
   "source": [
    "class Dog:\n",
    "    # Constructor method to initialize attributes\n",
    "    def __init__(self, name, breed):\n",
    "        self.name = name\n",
    "        self.breed = breed\n",
    "\n",
    "    # Method to bark\n",
    "    def bark(self):\n",
    "        return f\"{self.name} is barking.\"\n",
    "\n",
    "# Create instances (objects) of the Dog class\n",
    "dog1 = Dog(\"Buddy\", \"Golden Retriever\")\n",
    "dog2 = Dog(\"Max\", \"German Shepherd\")\n",
    "\n",
    "# Access attributes and call methods\n",
    "print(dog1.name)     # Output: Buddy\n",
    "print(dog2.bark())   # Output: Max is barking.\n"
   ]
  },
  {
   "cell_type": "code",
   "execution_count": 2,
   "id": "e4b7295c",
   "metadata": {},
   "outputs": [
    {
     "name": "stdout",
     "output_type": "stream",
     "text": [
      "Alice\n",
      "Name: Alice, Age: 30\n",
      "Name: Bob, Age: 28\n"
     ]
    }
   ],
   "source": [
    "class Person:\n",
    "    # Constructor method to initialize attributes\n",
    "    def __init__(self, name, age):\n",
    "        self.name = name\n",
    "        self.age = age\n",
    "\n",
    "    # Method to set the name\n",
    "    def set_name(self, name):\n",
    "        self.name = name\n",
    "\n",
    "    # Method to set the age\n",
    "    def set_age(self, age):\n",
    "        self.age = age\n",
    "\n",
    "    # Method to display the person's information\n",
    "    def display_info(self):\n",
    "        print(f\"Name: {self.name}, Age: {self.age}\")\n",
    "\n",
    "# Creating instances (objects) of the Person class\n",
    "person1 = Person(\"Alice\", 30)\n",
    "person2 = Person(\"Bob\", 25)\n",
    "\n",
    "# Accessing and modifying attributes\n",
    "print(person1.name)  # Output: Alice\n",
    "person2.set_age(28)  # Set the age attribute of person2 to 28\n",
    "\n",
    "# Calling methods to display information\n",
    "person1.display_info()  # Output: Name: Alice, Age: 30\n",
    "person2.display_info()  # Output: Name: Bob, Age: 28"
   ]
  },
  {
   "cell_type": "code",
   "execution_count": 3,
   "id": "d24faa2d",
   "metadata": {},
   "outputs": [
    {
     "name": "stdout",
     "output_type": "stream",
     "text": [
      "Area of rect1: 15\n",
      "Perimeter of rect2: 22\n"
     ]
    }
   ],
   "source": [
    "class Rectangle:\n",
    "    def __init__(self, width, height):\n",
    "        self.width = width\n",
    "        self.height = height\n",
    "    \n",
    "    def area(self):\n",
    "        return self.width * self.height\n",
    "    \n",
    "    def perimeter(self):\n",
    "        return 2 * (self.width + self.height)\n",
    "\n",
    "# Create rectangle objects\n",
    "rect1 = Rectangle(5, 3)\n",
    "rect2 = Rectangle(7, 4)\n",
    "\n",
    "# Calculate area and perimeter\n",
    "area1 = rect1.area()\n",
    "perimeter2 = rect2.perimeter()\n",
    "\n",
    "print(\"Area of rect1:\", area1)            # Output: Area of rect1: 15\n",
    "print(\"Perimeter of rect2:\", perimeter2)  # Output: Perimeter of rect2: 22"
   ]
  },
  {
   "cell_type": "code",
   "execution_count": 4,
   "id": "7b2c0277",
   "metadata": {},
   "outputs": [
    {
     "name": "stdout",
     "output_type": "stream",
     "text": [
      "Addition result: 8\n",
      "Subtraction result: 6\n"
     ]
    }
   ],
   "source": [
    "class Calculator:\n",
    "    def add(self, a, b):\n",
    "        return a + b\n",
    "    \n",
    "    def subtract(self, a, b):\n",
    "        return a - b\n",
    "\n",
    "# Create an instance of the Calculator class\n",
    "calc = Calculator()\n",
    "\n",
    "# Perform addition and subtraction\n",
    "result1 = calc.add(5, 3)\n",
    "result2 = calc.subtract(10, 4)\n",
    "\n",
    "print(\"Addition result:\", result1)    # Output: Addition result: 8\n",
    "print(\"Subtraction result:\", result2)  # Output: Subtraction result: 6"
   ]
  },
  {
   "cell_type": "code",
   "execution_count": 7,
   "id": "f3da1986",
   "metadata": {},
   "outputs": [
    {
     "name": "stdout",
     "output_type": "stream",
     "text": [
      "name: Alice\n",
      "age: 30\n"
     ]
    }
   ],
   "source": [
    "class person:\n",
    "    def __init__(self,name, age):\n",
    "        self.name=name\n",
    "        self.age=age\n",
    "        \n",
    "# create a person object\n",
    "person = person('Alice', 30)\n",
    "\n",
    "#access and print the person's name and age\n",
    "print('name:', person.name)\n",
    "print('age:', person.age)"
   ]
  },
  {
   "cell_type": "code",
   "execution_count": 22,
   "id": "bd31911f",
   "metadata": {},
   "outputs": [
    {
     "name": "stdout",
     "output_type": "stream",
     "text": [
      "name: kitty\n",
      "breed: forign\n"
     ]
    }
   ],
   "source": [
    "class dog:\n",
    "    def __init__(self,name,breed):\n",
    "        self.name=name\n",
    "        self.breed=breed\n",
    "        \n",
    "dog=dog('kitty','forign')\n",
    "\n",
    "print('name:',dog.name)\n",
    "print('breed:',dog.breed)"
   ]
  },
  {
   "cell_type": "code",
   "execution_count": 29,
   "id": "684dd537",
   "metadata": {},
   "outputs": [
    {
     "name": "stdout",
     "output_type": "stream",
     "text": [
      "country: India\n",
      "currency: Rupees\n"
     ]
    }
   ],
   "source": [
    "class money:\n",
    "    def __init__(self,country,currency):\n",
    "        self.country = country\n",
    "        self.currency = currency\n",
    "        \n",
    "money=money('India','Rupees')\n",
    "\n",
    "\n",
    "print('country:', money.country)\n",
    "print('currency:', money.currency)"
   ]
  },
  {
   "cell_type": "code",
   "execution_count": 30,
   "id": "bc8e75df",
   "metadata": {},
   "outputs": [
    {
     "name": "stdout",
     "output_type": "stream",
     "text": [
      "Harry Potter\n",
      "J.K. Rowling\n"
     ]
    }
   ],
   "source": [
    "class Book:\n",
    "    def __init__(self, title, author):\n",
    "        self.title = title\n",
    "        self.author = author\n",
    "\n",
    "# Creating a Book object\n",
    "book = Book(\"Harry Potter\", \"J.K. Rowling\")\n",
    "\n",
    "# Accessing attributes\n",
    "print(book.title)    # Output: Harry Potter\n",
    "print(book.author)   # Output: J.K. Rowling"
   ]
  },
  {
   "cell_type": "code",
   "execution_count": 34,
   "id": "90fd9349",
   "metadata": {},
   "outputs": [
    {
     "name": "stdout",
     "output_type": "stream",
     "text": [
      "Buddy\n",
      "Max is barking.\n"
     ]
    }
   ],
   "source": [
    "class Dog:\n",
    "    # Constructor method to initialize attributes\n",
    "    def __init__(self, name, breed):\n",
    "        self.name = name\n",
    "        self.breed = breed\n",
    "\n",
    "    # Method to bark\n",
    "    def bark(self):\n",
    "        return f\"{self.name} is barking.\"\n",
    "\n",
    "# Create instances (objects) of the Dog class\n",
    "dog1 = Dog(\"Buddy\", \"Golden Retriever\")\n",
    "dog2 = Dog(\"Max\", \"German Shepherd\")\n",
    "\n",
    "# Access attributes and call methods\n",
    "print(dog1.name)     # Output: Buddy\n",
    "print(dog2.bark())   # Output: Max is barking.\n"
   ]
  },
  {
   "cell_type": "code",
   "execution_count": 35,
   "id": "baaf8e65",
   "metadata": {},
   "outputs": [
    {
     "name": "stdout",
     "output_type": "stream",
     "text": [
      "Buddy says Woof!\n",
      "Whiskers says Meow!\n"
     ]
    }
   ],
   "source": [
    "# inheritance\n",
    "class Animal:\n",
    "    def __init__(self, name):\n",
    "        self.name = name\n",
    "\n",
    "    def speak(self):\n",
    "        pass  # Abstract method\n",
    "\n",
    "class Dog(Animal):\n",
    "    def speak(self):\n",
    "        return f\"{self.name} says Woof!\"\n",
    "\n",
    "class Cat(Animal):\n",
    "    def speak(self):\n",
    "        return f\"{self.name} says Meow!\"\n",
    "\n",
    "dog = Dog(\"Buddy\")\n",
    "cat = Cat(\"Whiskers\")\n",
    "\n",
    "print(dog.speak())  # Output: Buddy says Woof!\n",
    "print(cat.speak())  # Output: Whiskers says Meow!\n"
   ]
  },
  {
   "cell_type": "code",
   "execution_count": 36,
   "id": "b3f6846a",
   "metadata": {},
   "outputs": [
    {
     "name": "stdout",
     "output_type": "stream",
     "text": [
      "Buddy says Woof!\n",
      "Whiskers says Meow!\n"
     ]
    }
   ],
   "source": [
    "# Polymorphism\n",
    "def animal_sound(animal):\n",
    "    return animal.speak()\n",
    "\n",
    "dog = Dog(\"Buddy\")\n",
    "cat = Cat(\"Whiskers\")\n",
    "\n",
    "print(animal_sound(dog))  # Output: Buddy says Woof!\n",
    "print(animal_sound(cat))  # Output: Whiskers says Meow!"
   ]
  },
  {
   "cell_type": "code",
   "execution_count": 37,
   "id": "7c8a8010",
   "metadata": {},
   "outputs": [
    {
     "name": "stdout",
     "output_type": "stream",
     "text": [
      "1300\n"
     ]
    }
   ],
   "source": [
    "# encapsulation\n",
    "class BankAccount:\n",
    "    def __init__(self, balance):\n",
    "        self.__balance = balance  # Private attribute\n",
    "\n",
    "    def deposit(self, amount):\n",
    "        if amount > 0:\n",
    "            self.__balance += amount\n",
    "\n",
    "    def withdraw(self, amount):\n",
    "        if 0 < amount <= self.__balance:\n",
    "            self.__balance -= amount\n",
    "\n",
    "    def get_balance(self):\n",
    "        return self.__balance\n",
    "\n",
    "account = BankAccount(1000)\n",
    "account.deposit(500)\n",
    "account.withdraw(200)\n",
    "print(account.get_balance())  # Output: 1300"
   ]
  },
  {
   "cell_type": "code",
   "execution_count": null,
   "id": "ee6f51ad",
   "metadata": {},
   "outputs": [],
   "source": []
  }
 ],
 "metadata": {
  "kernelspec": {
   "display_name": "Python 3 (ipykernel)",
   "language": "python",
   "name": "python3"
  },
  "language_info": {
   "codemirror_mode": {
    "name": "ipython",
    "version": 3
   },
   "file_extension": ".py",
   "mimetype": "text/x-python",
   "name": "python",
   "nbconvert_exporter": "python",
   "pygments_lexer": "ipython3",
   "version": "3.9.13"
  }
 },
 "nbformat": 4,
 "nbformat_minor": 5
}
