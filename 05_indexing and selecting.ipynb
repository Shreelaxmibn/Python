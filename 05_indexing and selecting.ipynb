{
 "cells": [
  {
   "cell_type": "code",
   "execution_count": 2,
   "id": "501837e7",
   "metadata": {},
   "outputs": [],
   "source": [
    "import numpy as np\n",
    "import pandas as pd"
   ]
  },
  {
   "cell_type": "markdown",
   "id": "d5a84a9f",
   "metadata": {},
   "source": [
    "# Multi-index\n",
    "A subject that you might not think that you'd need - but turns out to be a rather frequent usecase.\n",
    "\n",
    "The initial idea behind the multi-index was to provide a framework to work with higher dim data (and thus a replacement for panels)."
   ]
  },
  {
   "cell_type": "code",
   "execution_count": 3,
   "id": "b61eda3c",
   "metadata": {},
   "outputs": [
    {
     "name": "stdout",
     "output_type": "stream",
     "text": [
      "Multi-Index DataFrame:\n",
      "               Value\n",
      "Letter Number       \n",
      "A      1          10\n",
      "       2          20\n",
      "B      1          30\n",
      "       2          40\n"
     ]
    }
   ],
   "source": [
    "# Creating a multi-index DataFrame\n",
    "data = {'Value': [10, 20, 30, 40]}\n",
    "arrays = [['A', 'A', 'B', 'B'], [1, 2, 1, 2]]\n",
    "index = pd.MultiIndex.from_arrays(arrays, names=('Letter', 'Number'))\n",
    "\n",
    "df_multi = pd.DataFrame(data, index=index)\n",
    "\n",
    "# Printing the multi-index DataFrame\n",
    "print(\"Multi-Index DataFrame:\")\n",
    "print(df_multi)"
   ]
  },
  {
   "cell_type": "markdown",
   "id": "37e90955",
   "metadata": {},
   "source": [
    "# Getting Single Values\n",
    "The next little indexing trick is one that is mostly about speed. But it is getting and setting single values. It is a pretty simple:"
   ]
  },
  {
   "cell_type": "code",
   "execution_count": 4,
   "id": "a8f712b9",
   "metadata": {},
   "outputs": [
    {
     "name": "stdout",
     "output_type": "stream",
     "text": [
      "Retrieved Value:\n",
      "20\n"
     ]
    }
   ],
   "source": [
    "# Getting a single value from the multi-index DataFrame\n",
    "value = df_multi.at[('A', 2), 'Value']\n",
    "\n",
    "# Printing the retrieved value\n",
    "print(\"Retrieved Value:\")\n",
    "print(value)"
   ]
  },
  {
   "cell_type": "code",
   "execution_count": 5,
   "id": "1338866d",
   "metadata": {},
   "outputs": [
    {
     "name": "stdout",
     "output_type": "stream",
     "text": [
      "DataFrame with Missing Values:\n",
      "     A    B\n",
      "0  1.0  5.0\n",
      "1  2.0  NaN\n",
      "2  NaN  7.0\n",
      "3  4.0  8.0\n"
     ]
    }
   ],
   "source": [
    "# Create a DataFrame with missing values\n",
    "data_missing = {'A': [1, 2, None, 4],\n",
    "                'B': [5, None, 7, 8]}\n",
    "df_missing = pd.DataFrame(data_missing)\n",
    "\n",
    "# Print the DataFrame with missing values\n",
    "print(\"DataFrame with Missing Values:\")\n",
    "print(df_missing)\n",
    "\n",
    "# Pandas automatically handles missing values (NaN)"
   ]
  },
  {
   "cell_type": "markdown",
   "id": "efca2e10",
   "metadata": {},
   "source": [
    "# reshape"
   ]
  },
  {
   "cell_type": "code",
   "execution_count": 7,
   "id": "6ecff992",
   "metadata": {},
   "outputs": [
    {
     "name": "stdout",
     "output_type": "stream",
     "text": [
      "Basic DataFrame:\n",
      "      Name  Age\n",
      "0    Alice   25\n",
      "1      Bob   30\n",
      "2  Charlie   22\n",
      "3    David   35\n"
     ]
    }
   ],
   "source": [
    "import pandas as pd\n",
    "\n",
    "# Creating a basic DataFrame\n",
    "data = {'Name': ['Alice', 'Bob', 'Charlie', 'David'],\n",
    "        'Age': [25, 30, 22, 35]}\n",
    "\n",
    "df = pd.DataFrame(data)\n",
    "\n",
    "# Printing the basic DataFrame\n",
    "print(\"Basic DataFrame:\")\n",
    "print(df)"
   ]
  },
  {
   "cell_type": "code",
   "execution_count": 8,
   "id": "ffff307f",
   "metadata": {},
   "outputs": [
    {
     "name": "stdout",
     "output_type": "stream",
     "text": [
      "Melted DataFrame:\n",
      "      Name Attribute  Value\n",
      "0    Alice       Age     25\n",
      "1      Bob       Age     30\n",
      "2  Charlie       Age     22\n",
      "3    David       Age     35\n",
      "Pivoted DataFrame:\n",
      "Attribute  Age\n",
      "Name          \n",
      "Alice       25\n",
      "Bob         30\n",
      "Charlie     22\n",
      "David       35\n"
     ]
    }
   ],
   "source": [
    "# Reshaping the DataFrame\n",
    "melted_df = pd.melt(df, id_vars=['Name'], value_vars=['Age'], var_name='Attribute', value_name='Value')\n",
    "\n",
    "# Printing the melted DataFrame\n",
    "print(\"Melted DataFrame:\")\n",
    "print(melted_df)\n",
    "\n",
    "# Pivoting the melted DataFrame\n",
    "pivoted_df = melted_df.pivot(index='Name', columns='Attribute', values='Value')\n",
    "\n",
    "# Printing the pivoted DataFrame\n",
    "print(\"Pivoted DataFrame:\")\n",
    "print(pivoted_df)"
   ]
  },
  {
   "cell_type": "code",
   "execution_count": null,
   "id": "b6cf3715",
   "metadata": {},
   "outputs": [],
   "source": []
  }
 ],
 "metadata": {
  "kernelspec": {
   "display_name": "Python 3 (ipykernel)",
   "language": "python",
   "name": "python3"
  },
  "language_info": {
   "codemirror_mode": {
    "name": "ipython",
    "version": 3
   },
   "file_extension": ".py",
   "mimetype": "text/x-python",
   "name": "python",
   "nbconvert_exporter": "python",
   "pygments_lexer": "ipython3",
   "version": "3.9.13"
  }
 },
 "nbformat": 4,
 "nbformat_minor": 5
}
