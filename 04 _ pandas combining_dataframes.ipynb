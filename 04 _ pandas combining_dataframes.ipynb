{
 "cells": [
  {
   "cell_type": "code",
   "execution_count": 2,
   "id": "49a09771",
   "metadata": {},
   "outputs": [],
   "source": [
    "import numpy as np\n",
    "import pandas as pd"
   ]
  },
  {
   "cell_type": "code",
   "execution_count": null,
   "id": "3ad2b999",
   "metadata": {},
   "outputs": [],
   "source": []
  },
  {
   "cell_type": "code",
   "execution_count": 5,
   "id": "6ca86f8b",
   "metadata": {},
   "outputs": [
    {
     "name": "stdout",
     "output_type": "stream",
     "text": [
      "     A  B\n",
      "X 1  1  5\n",
      "  2  2  6\n",
      "Y 1  3  7\n",
      "  2  4  8\n",
      "   A     B   \n",
      "   1  2  1  2\n",
      "X  1  2  5  6\n",
      "Y  3  4  7  8\n"
     ]
    }
   ],
   "source": [
    "# Create a multi-index DataFrame\n",
    "data = pd.DataFrame({'A': [1, 2, 3, 4], 'B': [5, 6, 7, 8]}, index=[['X', 'X', 'Y', 'Y'], [1, 2, 1, 2]])\n",
    "\n",
    "# Unstack the second level of the index\n",
    "unstacked = data.unstack(level=1)\n",
    "\n",
    "# Stack it back to the original format\n",
    "stacked = unstacked.stack(level=1)\n",
    "print(stacked)\n",
    "print(unstacked)"
   ]
  },
  {
   "cell_type": "code",
   "execution_count": 7,
   "id": "d88d4090",
   "metadata": {},
   "outputs": [
    {
     "name": "stdout",
     "output_type": "stream",
     "text": [
      "year   2021  2022\n",
      "month            \n",
      "1        30    28\n",
      "2        35    32\n"
     ]
    }
   ],
   "source": [
    "# Create a long-format DataFrame with year, month, and temperature\n",
    "data = pd.DataFrame({'year': [2021, 2021, 2022, 2022],\n",
    "                    'month': [1, 2, 1, 2],\n",
    "                    'temperature': [30, 35, 28, 32]})\n",
    "\n",
    "# Pivot the data to have years as columns and months as rows\n",
    "pivoted = data.pivot(index='month', columns='year', values='temperature')\n",
    "\n",
    "print(pivoted)"
   ]
  },
  {
   "cell_type": "code",
   "execution_count": 8,
   "id": "f8960126",
   "metadata": {},
   "outputs": [
    {
     "name": "stdout",
     "output_type": "stream",
     "text": [
      "   year month  temperature\n",
      "0  2021   Jan           30\n",
      "1  2022   Jan           28\n",
      "2  2021   Feb           35\n",
      "3  2022   Feb           32\n"
     ]
    }
   ],
   "source": [
    "# Create a wide-format DataFrame with year, Jan, and Feb columns\n",
    "data = pd.DataFrame({'year': [2021, 2022],\n",
    "                    'Jan': [30, 28],\n",
    "                    'Feb': [35, 32]})\n",
    "\n",
    "# Unpivot (melt) the data to a long format\n",
    "melted = data.melt(id_vars='year', var_name='month', value_name='temperature')\n",
    "print(melted)"
   ]
  },
  {
   "cell_type": "code",
   "execution_count": 9,
   "id": "ac108a0f",
   "metadata": {},
   "outputs": [
    {
     "name": "stdout",
     "output_type": "stream",
     "text": [
      "   Value  Category_A  Category_B  Category_C\n",
      "0     10           1           0           0\n",
      "1     20           0           1           0\n",
      "2     15           1           0           0\n",
      "3     25           0           0           1\n",
      "4     30           0           1           0\n"
     ]
    }
   ],
   "source": [
    "# Create a DataFrame with a categorical 'Category' column\n",
    "data = pd.DataFrame({'Category': ['A', 'B', 'A', 'C', 'B'],\n",
    "                    'Value': [10, 20, 15, 25, 30]})\n",
    "\n",
    "# Convert the categorical 'Category' column into dummy variables\n",
    "dummies = pd.get_dummies(data, columns=['Category'], prefix='Category')\n",
    "print(dummies)"
   ]
  },
  {
   "cell_type": "code",
   "execution_count": 11,
   "id": "824ebd67",
   "metadata": {},
   "outputs": [
    {
     "name": "stdout",
     "output_type": "stream",
     "text": [
      "   A  B\n",
      "0  1  3\n",
      "1  2  4\n",
      "0  5  7\n",
      "1  6  8\n"
     ]
    }
   ],
   "source": [
    "# Create two sample DataFrames\n",
    "df1 = pd.DataFrame({'A': [1, 2], 'B': [3, 4]})\n",
    "df2 = pd.DataFrame({'A': [5, 6], 'B': [7, 8]})\n",
    "\n",
    "# Concatenate them along rows (axis=0) to combine data\n",
    "combined = pd.concat([df1, df2], axis=0)\n",
    "print(combined)"
   ]
  },
  {
   "cell_type": "code",
   "execution_count": 12,
   "id": "23e00081",
   "metadata": {},
   "outputs": [
    {
     "name": "stdout",
     "output_type": "stream",
     "text": [
      "    Full Name First Name Last Name\n",
      "0    John Doe       John       Doe\n",
      "1  Jane Smith       Jane     Smith\n"
     ]
    }
   ],
   "source": [
    "# Create a DataFrame with a 'Full Name' column\n",
    "data = pd.DataFrame({'Full Name': ['John Doe', 'Jane Smith']})\n",
    "\n",
    "# Split the 'Full Name' into 'First Name' and 'Last Name'\n",
    "data[['First Name', 'Last Name']] = data['Full Name'].str.split(' ', expand=True)\n",
    "print(data)"
   ]
  },
  {
   "cell_type": "code",
   "execution_count": null,
   "id": "0a9400c3",
   "metadata": {},
   "outputs": [],
   "source": []
  }
 ],
 "metadata": {
  "kernelspec": {
   "display_name": "Python 3 (ipykernel)",
   "language": "python",
   "name": "python3"
  },
  "language_info": {
   "codemirror_mode": {
    "name": "ipython",
    "version": 3
   },
   "file_extension": ".py",
   "mimetype": "text/x-python",
   "name": "python",
   "nbconvert_exporter": "python",
   "pygments_lexer": "ipython3",
   "version": "3.9.13"
  }
 },
 "nbformat": 4,
 "nbformat_minor": 5
}
