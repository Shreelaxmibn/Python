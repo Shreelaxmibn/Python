{
 "cells": [
  {
   "cell_type": "code",
   "execution_count": 2,
   "id": "eadf10ff",
   "metadata": {},
   "outputs": [
    {
     "data": {
      "text/plain": [
       "[1, 2, 3, 4, 5, 6]"
      ]
     },
     "execution_count": 2,
     "metadata": {},
     "output_type": "execute_result"
    }
   ],
   "source": [
    "array1 = [1, 2, 3]\n",
    "array2 = [4, 5, 6]\n",
    "\n",
    "combined_array = array1 + array2\n",
    "# Resulting array: [1, 2, 3, 4, 5, 6]\n",
    "combined_array"
   ]
  },
  {
   "cell_type": "code",
   "execution_count": 6,
   "id": "b181f625",
   "metadata": {},
   "outputs": [
    {
     "name": "stdout",
     "output_type": "stream",
     "text": [
      "[1, 2, 3, 4, 5, 6]\n"
     ]
    }
   ],
   "source": [
    "array1 = [1, 2, 3]\n",
    "array2 = [4, 5, 6]\n",
    "\n",
    "array1.extend(array2)\n",
    "# Resulting array1: [1, 2, 3, 4, 5, 6]\n",
    "print(array1)"
   ]
  },
  {
   "cell_type": "code",
   "execution_count": 7,
   "id": "8b38e478",
   "metadata": {},
   "outputs": [
    {
     "data": {
      "text/plain": [
       "[1, 2, 3, 4, 5, 6]"
      ]
     },
     "execution_count": 7,
     "metadata": {},
     "output_type": "execute_result"
    }
   ],
   "source": [
    "array1 = [1, 2, 3]\n",
    "array2 = [4, 5, 6]\n",
    "\n",
    "combined_array = [x for x in array1] + [x for x in array2]\n",
    "# Resulting combined_array: [1, 2, 3, 4, 5, 6]\n",
    "combined_array"
   ]
  },
  {
   "cell_type": "code",
   "execution_count": 9,
   "id": "b0fdf52e",
   "metadata": {},
   "outputs": [
    {
     "data": {
      "text/plain": [
       "[[1, 2, 3], [4, 5, 6]]"
      ]
     },
     "execution_count": 9,
     "metadata": {},
     "output_type": "execute_result"
    }
   ],
   "source": [
    "original_array = [1, 2, 3, 4, 5, 6]\n",
    "split_arrays = [original_array[:3], original_array[3:]]\n",
    "# Resulting split_arrays: [[1, 2, 3], [4, 5, 6]]\n",
    "\n",
    "split_arrays"
   ]
  },
  {
   "cell_type": "code",
   "execution_count": 10,
   "id": "fa182035",
   "metadata": {},
   "outputs": [
    {
     "data": {
      "text/plain": [
       "[[1, 2], [3, 4], [5, 6]]"
      ]
     },
     "execution_count": 10,
     "metadata": {},
     "output_type": "execute_result"
    }
   ],
   "source": [
    "original_array = [1, 2, 3, 4, 5, 6]\n",
    "\n",
    "split_arrays = [original_array[i:i+2] for i in range(0, len(original_array), 2)]\n",
    "# Resulting split_arrays: [[1, 2], [3, 4], [5, 6]]\n",
    "\n",
    "split_arrays"
   ]
  },
  {
   "cell_type": "code",
   "execution_count": 11,
   "id": "acbce1f4",
   "metadata": {},
   "outputs": [
    {
     "data": {
      "text/plain": [
       "[array([1, 2]), array([3, 4]), array([5, 6])]"
      ]
     },
     "execution_count": 11,
     "metadata": {},
     "output_type": "execute_result"
    }
   ],
   "source": [
    "import numpy as np\n",
    "\n",
    "original_array = np.array([1, 2, 3, 4, 5, 6])\n",
    "\n",
    "split_arrays = np.array_split(original_array, 3)\n",
    "# Resulting split_arrays: [array([1, 2]), array([3, 4]), array([5, 6])]\n",
    "\n",
    "split_arrays"
   ]
  },
  {
   "cell_type": "code",
   "execution_count": null,
   "id": "8e83d732",
   "metadata": {},
   "outputs": [],
   "source": []
  }
 ],
 "metadata": {
  "kernelspec": {
   "display_name": "Python 3 (ipykernel)",
   "language": "python",
   "name": "python3"
  },
  "language_info": {
   "codemirror_mode": {
    "name": "ipython",
    "version": 3
   },
   "file_extension": ".py",
   "mimetype": "text/x-python",
   "name": "python",
   "nbconvert_exporter": "python",
   "pygments_lexer": "ipython3",
   "version": "3.9.13"
  }
 },
 "nbformat": 4,
 "nbformat_minor": 5
}
