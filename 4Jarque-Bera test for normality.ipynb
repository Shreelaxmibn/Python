{
 "cells": [
  {
   "cell_type": "markdown",
   "id": "24dec0bf",
   "metadata": {},
   "source": [
    "# Introduction:\n",
    "The Jarque-Bera test is a statistical test used to assess whether a given dataset follows a normal distribution. It is based on the skewness and kurtosis of the data. The test is named after Carlos Jarque and Anil K. Bera, who developed it in 1980. The Jarque-Bera test is commonly used in econometrics and finance to evaluate the normality assumption in regression models and to determine if there are departures from normality that could affect the reliability of statistical inferences"
   ]
  },
  {
   "cell_type": "markdown",
   "id": "4bda54a9",
   "metadata": {},
   "source": [
    "# When to Perform:\n",
    "The Jarque-Bera test is typically performed after fitting a regression model or when analyzing a dataset to check the normality assumption. It is important to assess normality because many statistical models and tests rely on the assumption that the errors or residuals are normally distributed. If the data violates the normality assumption, it may affect the validity of hypothesis tests, confidence intervals, and other statistical inferences. Therefore, it is essential to perform the Jarque-Bera test to detect departures from normality."
   ]
  },
  {
   "cell_type": "markdown",
   "id": "20e1ed66",
   "metadata": {},
   "source": [
    "# How to Perform Jarque-Bera Test using Python:\n",
    "To perform the Jarque-Bera test using Python, you can utilize the scipy.stats library, which provides various statistical functions and tests. Here's a step-by-step guide:"
   ]
  },
  {
   "cell_type": "code",
   "execution_count": 1,
   "id": "2baaf0b5",
   "metadata": {},
   "outputs": [],
   "source": [
    "# Import the necessary modules and libraries in your Python script or Jupyter Notebook:\n",
    "\n",
    "import numpy as np\n",
    "from scipy.stats import jarque_bera"
   ]
  },
  {
   "cell_type": "code",
   "execution_count": 4,
   "id": "950cda28",
   "metadata": {},
   "outputs": [],
   "source": [
    "# Prepare your data by loading it into a numpy array or a pandas DataFrame. Ensure that the data represents the variable of interest, such as the residuals from a regression model or a specific dataset for analysis.\n",
    "\n",
    "# Calculate the skewness and kurtosis of the data using the numpy library:\n",
    "\n",
    "data = np.array([1, 2, 3, 4, 5])  # Replace with your actual data\n",
    "skewness = np.mean((data - np.mean(data))**3) / np.power(np.var(data), 1.5)\n",
    "kurtosis = np.mean((data - np.mean(data))**4) / np.power(np.var(data), 2) - 3"
   ]
  },
  {
   "cell_type": "code",
   "execution_count": 9,
   "id": "1aee006f",
   "metadata": {},
   "outputs": [],
   "source": [
    "# Perform the Jarque-Bera test by passing the calculated skewness and kurtosis to the jarque_bera function:\n",
    "\n",
    "\n",
    "jb_value, p_value = jarque_bera(data)\n"
   ]
  },
  {
   "cell_type": "markdown",
   "id": "d51e775b",
   "metadata": {},
   "source": [
    "The jb_value is the test statistic, and the p_value represents the significance level associated with the test.\n",
    "\n",
    "Compare the obtained p-value to a chosen significance level (e.g., 0.05) to determine if the null hypothesis of normality should be rejected. If the p-value is below the chosen significance level, it suggests that the data significantly deviates from a normal distribution.\n"
   ]
  },
  {
   "cell_type": "markdown",
   "id": "03ef521f",
   "metadata": {},
   "source": [
    "# Conclusion:\n",
    "The Jarque-Bera test is a valuable statistical test for assessing the normality assumption of a dataset. By performing this test, you can determine if the data significantly deviates from a normal distribution, which is crucial for accurate statistical inferences. Python, with the scipy.stats library, provides a convenient way to conduct the Jarque-Bera test and evaluate the normality of your data."
   ]
  }
 ],
 "metadata": {
  "kernelspec": {
   "display_name": "Python 3 (ipykernel)",
   "language": "python",
   "name": "python3"
  },
  "language_info": {
   "codemirror_mode": {
    "name": "ipython",
    "version": 3
   },
   "file_extension": ".py",
   "mimetype": "text/x-python",
   "name": "python",
   "nbconvert_exporter": "python",
   "pygments_lexer": "ipython3",
   "version": "3.9.13"
  }
 },
 "nbformat": 4,
 "nbformat_minor": 5
}
