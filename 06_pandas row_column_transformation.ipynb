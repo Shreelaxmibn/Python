{
 "cells": [
  {
   "cell_type": "code",
   "execution_count": 1,
   "id": "a19e8514",
   "metadata": {},
   "outputs": [
    {
     "name": "stdout",
     "output_type": "stream",
     "text": [
      "Basic DataFrame:\n",
      "      Name  Age\n",
      "0    Alice   25\n",
      "1      Bob   30\n",
      "2  Charlie   22\n",
      "3    David   35\n"
     ]
    }
   ],
   "source": [
    "import pandas as pd\n",
    "\n",
    "data = {'Name': ['Alice', 'Bob', 'Charlie', 'David'],\n",
    "        'Age': [25, 30, 22, 35]}\n",
    "\n",
    "df = pd.DataFrame(data)\n",
    "\n",
    "print(\"Basic DataFrame:\")\n",
    "print(df)"
   ]
  },
  {
   "cell_type": "code",
   "execution_count": 2,
   "id": "6f32d43c",
   "metadata": {},
   "outputs": [
    {
     "name": "stdout",
     "output_type": "stream",
     "text": [
      "Stacked DataFrame:\n",
      "Name        \n",
      "Alice    Age    25\n",
      "Bob      Age    30\n",
      "Charlie  Age    22\n",
      "David    Age    35\n",
      "dtype: int64\n",
      "Unstacked DataFrame:\n",
      "         Age\n",
      "Name        \n",
      "Alice     25\n",
      "Bob       30\n",
      "Charlie   22\n",
      "David     35\n"
     ]
    }
   ],
   "source": [
    "# Stack the DataFrame\n",
    "stacked_df = df.set_index('Name').stack()\n",
    "\n",
    "# Print the stacked DataFrame\n",
    "print(\"Stacked DataFrame:\")\n",
    "print(stacked_df)\n",
    "\n",
    "# Unstack the DataFrame\n",
    "unstacked_df = stacked_df.unstack()\n",
    "\n",
    "# Print the unstacked DataFrame\n",
    "print(\"Unstacked DataFrame:\")\n",
    "print(unstacked_df)"
   ]
  },
  {
   "cell_type": "code",
   "execution_count": 5,
   "id": "e935f698",
   "metadata": {},
   "outputs": [
    {
     "name": "stdout",
     "output_type": "stream",
     "text": [
      "Stacked DataFrame:\n",
      "      Name level_1  Value\n",
      "0    Alice     Age     25\n",
      "1      Bob     Age     30\n",
      "2  Charlie     Age     22\n",
      "3    David     Age     35\n"
     ]
    }
   ],
   "source": [
    "import pandas as pd\n",
    "\n",
    "# Creating a basic DataFrame\n",
    "data = {'Name': ['Alice', 'Bob', 'Charlie', 'David'],\n",
    "        'Age': [25, 30, 22, 35]}\n",
    "\n",
    "df = pd.DataFrame(data)\n",
    "\n",
    "# Stacking the DataFrame\n",
    "stacked_df = df.set_index('Name').stack().reset_index(name='Value')\n",
    "\n",
    "# Print the stacked DataFrame\n",
    "print(\"Stacked DataFrame:\")\n",
    "print(stacked_df)"
   ]
  },
  {
   "cell_type": "code",
   "execution_count": 6,
   "id": "ce8cc870",
   "metadata": {},
   "outputs": [
    {
     "name": "stdout",
     "output_type": "stream",
     "text": [
      "Unstacked DataFrame:\n",
      "level_1  Age\n",
      "Name        \n",
      "Alice     25\n",
      "Bob       30\n",
      "Charlie   22\n",
      "David     35\n"
     ]
    }
   ],
   "source": [
    "# Unstacking the DataFrame\n",
    "unstacked_df = stacked_df.set_index(['Name', 'level_1'])['Value'].unstack()\n",
    "\n",
    "# Print the unstacked DataFrame\n",
    "print(\"Unstacked DataFrame:\")\n",
    "print(unstacked_df)"
   ]
  },
  {
   "cell_type": "code",
   "execution_count": 8,
   "id": "f4621750",
   "metadata": {},
   "outputs": [
    {
     "name": "stdout",
     "output_type": "stream",
     "text": [
      "Stacked DataFrame with MultiIndex:\n",
      "      Name  level_1  Score\n",
      "0    Alice     Math     90\n",
      "1    Alice  Science     88\n",
      "2      Bob     Math     85\n",
      "3      Bob  Science     89\n",
      "4  Charlie     Math     78\n",
      "5  Charlie  Science     75\n",
      "6    David     Math     92\n",
      "7    David  Science     90\n"
     ]
    }
   ],
   "source": [
    "# Creating a DataFrame with MultiIndex\n",
    "data = {'Name': ['Alice', 'Bob', 'Charlie', 'David'],\n",
    "        'Math': [90, 85, 78, 92],\n",
    "        'Science': [88, 89, 75, 90]}\n",
    "\n",
    "df = pd.DataFrame(data)\n",
    "df.set_index('Name', inplace=True)\n",
    "\n",
    "# Stacking the DataFrame with MultiIndex\n",
    "stacked_df = df.stack().reset_index(name='Score')\n",
    "\n",
    "# Print the stacked DataFrame\n",
    "print(\"Stacked DataFrame with MultiIndex:\")\n",
    "print(stacked_df)\n"
   ]
  },
  {
   "cell_type": "markdown",
   "id": "c55cd20b",
   "metadata": {},
   "source": [
    "# dummy values"
   ]
  },
  {
   "cell_type": "code",
   "execution_count": 10,
   "id": "8085f065",
   "metadata": {},
   "outputs": [
    {
     "name": "stdout",
     "output_type": "stream",
     "text": [
      "   Color\n",
      "0    Red\n",
      "1  Green\n",
      "2   Blue\n",
      "3    Red\n",
      "4  Green\n"
     ]
    }
   ],
   "source": [
    "import pandas as pd\n",
    "\n",
    "# Create a DataFrame with a single categorical column\n",
    "data = {'Color': ['Red', 'Green', 'Blue', 'Red', 'Green']}\n",
    "df = pd.DataFrame(data)\n",
    "print(df)"
   ]
  },
  {
   "cell_type": "code",
   "execution_count": 11,
   "id": "cf413f3a",
   "metadata": {},
   "outputs": [
    {
     "name": "stdout",
     "output_type": "stream",
     "text": [
      "DataFrame with Dummy Variables:\n",
      "   Color  Color_Blue  Color_Green  Color_Red\n",
      "0    Red           0            0          1\n",
      "1  Green           0            1          0\n",
      "2   Blue           1            0          0\n",
      "3    Red           0            0          1\n",
      "4  Green           0            1          0\n"
     ]
    }
   ],
   "source": [
    "# Get dummy variables for the 'Color' column\n",
    "dummies = pd.get_dummies(df['Color'], prefix='Color')\n",
    "\n",
    "# Add the dummy variables to the original DataFrame\n",
    "df = pd.concat([df, dummies], axis=1)\n",
    "\n",
    "# Print the DataFrame with dummy variables\n",
    "print(\"DataFrame with Dummy Variables:\")\n",
    "print(df)"
   ]
  },
  {
   "cell_type": "code",
   "execution_count": 13,
   "id": "ef6499cc",
   "metadata": {},
   "outputs": [
    {
     "name": "stdout",
     "output_type": "stream",
     "text": [
      "    Fruit\n",
      "0   Apple\n",
      "1  Banana\n",
      "2  Orange\n",
      "3    None\n",
      "4   Apple\n"
     ]
    }
   ],
   "source": [
    "import pandas as pd\n",
    "\n",
    "# Create a DataFrame with missing values in a categorical column\n",
    "data = {'Fruit': ['Apple', 'Banana', 'Orange', None, 'Apple']}\n",
    "df = pd.DataFrame(data)\n",
    "print(df)"
   ]
  },
  {
   "cell_type": "code",
   "execution_count": 14,
   "id": "1aa86d8a",
   "metadata": {},
   "outputs": [
    {
     "name": "stdout",
     "output_type": "stream",
     "text": [
      "DataFrame with Dummy Variables (including missing values):\n",
      "    Fruit  Fruit_Apple  Fruit_Banana  Fruit_Orange  Fruit_nan\n",
      "0   Apple            1             0             0          0\n",
      "1  Banana            0             1             0          0\n",
      "2  Orange            0             0             1          0\n",
      "3    None            0             0             0          1\n",
      "4   Apple            1             0             0          0\n"
     ]
    }
   ],
   "source": [
    "# Get dummy variables, including handling missing values\n",
    "dummies = pd.get_dummies(df['Fruit'], prefix='Fruit', dummy_na=True)\n",
    "\n",
    "# Add the dummy variables to the original DataFrame\n",
    "df = pd.concat([df, dummies], axis=1)\n",
    "\n",
    "# Print the DataFrame with dummy variables\n",
    "print(\"DataFrame with Dummy Variables (including missing values):\")\n",
    "print(df)"
   ]
  },
  {
   "cell_type": "code",
   "execution_count": null,
   "id": "66895923",
   "metadata": {},
   "outputs": [],
   "source": []
  }
 ],
 "metadata": {
  "kernelspec": {
   "display_name": "Python 3 (ipykernel)",
   "language": "python",
   "name": "python3"
  },
  "language_info": {
   "codemirror_mode": {
    "name": "ipython",
    "version": 3
   },
   "file_extension": ".py",
   "mimetype": "text/x-python",
   "name": "python",
   "nbconvert_exporter": "python",
   "pygments_lexer": "ipython3",
   "version": "3.9.13"
  }
 },
 "nbformat": 4,
 "nbformat_minor": 5
}
