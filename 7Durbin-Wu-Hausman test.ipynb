{
 "cells": [
  {
   "cell_type": "markdown",
   "id": "42f28966",
   "metadata": {},
   "source": [
    "# Introduction:\n",
    "The Durbin-Wu-Hausman (DWH) test is a statistical test used to assess the presence of endogeneity in regression models. It helps to determine whether the independent variables are correlated with the error term, which violates the assumption of exogeneity. The test is an extension of the Hausman test and was developed by James Durbin and Michael Wu in 1951, and later extended by Jerry Hausman in 1978. The DWH test is commonly used in econometrics to evaluate the appropriateness of instrumental variable (IV) regression models and to decide between the IV and ordinary least squares (OLS) estimators."
   ]
  },
  {
   "cell_type": "markdown",
   "id": "2a5b61c6",
   "metadata": {},
   "source": [
    "# When to Perform:\n",
    "The Durbin-Wu-Hausman test is typically performed when there are concerns about endogeneity in a regression model. Endogeneity refers to a situation where the independent variables are correlated with the error term, leading to biased and inconsistent parameter estimates in OLS regression. The DWH test helps to determine whether an IV regression model should be used instead of OLS to address the endogeneity issue. It is crucial to perform the DWH test when there are reasons to suspect endogeneity and when instrumental variables are available"
   ]
  },
  {
   "cell_type": "markdown",
   "id": "290ee060",
   "metadata": {},
   "source": [
    "# How to Perform Durbin-Wu-Hausman Test using Python:\n",
    "To perform the Durbin-Wu-Hausman test using Python, you can utilize the linearmodels library, which provides various econometric models and tests. Here's a step-by-step guide"
   ]
  },
  {
   "cell_type": "code",
   "execution_count": null,
   "id": "d14144b0",
   "metadata": {},
   "outputs": [],
   "source": [
    "# Install the linearmodels library if you haven't already. You can use the following command:\n",
    "\n",
    "pip install linearmodels"
   ]
  },
  {
   "cell_type": "code",
   "execution_count": 1,
   "id": "989f5ef6",
   "metadata": {},
   "outputs": [
    {
     "ename": "ModuleNotFoundError",
     "evalue": "No module named 'linearmodels'",
     "output_type": "error",
     "traceback": [
      "\u001b[1;31m---------------------------------------------------------------------------\u001b[0m",
      "\u001b[1;31mModuleNotFoundError\u001b[0m                       Traceback (most recent call last)",
      "\u001b[1;32m~\\AppData\\Local\\Temp\\ipykernel_20600\\962206629.py\u001b[0m in \u001b[0;36m<module>\u001b[1;34m\u001b[0m\n\u001b[0;32m      3\u001b[0m \u001b[1;32mimport\u001b[0m \u001b[0mnumpy\u001b[0m \u001b[1;32mas\u001b[0m \u001b[0mnp\u001b[0m\u001b[1;33m\u001b[0m\u001b[1;33m\u001b[0m\u001b[0m\n\u001b[0;32m      4\u001b[0m \u001b[1;32mimport\u001b[0m \u001b[0mpandas\u001b[0m \u001b[1;32mas\u001b[0m \u001b[0mpd\u001b[0m\u001b[1;33m\u001b[0m\u001b[1;33m\u001b[0m\u001b[0m\n\u001b[1;32m----> 5\u001b[1;33m \u001b[1;32mfrom\u001b[0m \u001b[0mlinearmodels\u001b[0m\u001b[1;33m.\u001b[0m\u001b[0miv\u001b[0m \u001b[1;32mimport\u001b[0m \u001b[0mIV2SLS\u001b[0m\u001b[1;33m\u001b[0m\u001b[1;33m\u001b[0m\u001b[0m\n\u001b[0m\u001b[0;32m      6\u001b[0m \u001b[1;32mfrom\u001b[0m \u001b[0mlinearmodels\u001b[0m\u001b[1;33m.\u001b[0m\u001b[0mtests\u001b[0m \u001b[1;32mimport\u001b[0m \u001b[0mIVWuHausman\u001b[0m\u001b[1;33m\u001b[0m\u001b[1;33m\u001b[0m\u001b[0m\n",
      "\u001b[1;31mModuleNotFoundError\u001b[0m: No module named 'linearmodels'"
     ]
    }
   ],
   "source": [
    "# Import the necessary modules and libraries in your Python script or Jupyter Notebook:\n",
    "\n",
    "import numpy as np\n",
    "import pandas as pd\n",
    "from linearmodels.iv import IV2SLS\n",
    "from linearmodels.tests import IVWuHausman"
   ]
  },
  {
   "cell_type": "code",
   "execution_count": null,
   "id": "32f4e388",
   "metadata": {},
   "outputs": [],
   "source": [
    "# Prepare your data by loading it into a pandas DataFrame, including the dependent variable, independent variables, and instrumental variables.\n",
    "\n",
    "# Specify the IV regression model using the IV2SLS class from linearmodels:\n",
    "\n",
    "endog_var = df[\"dependent_var\"]\n",
    "exog_vars = df[[\"independent_var1\", \"independent_var2\", ...]]\n",
    "instruments = df[[\"instrument1\", \"instrument2\", ...]]\n",
    "model = IV2SLS(endog_var, exog_vars, instruments)"
   ]
  },
  {
   "cell_type": "code",
   "execution_count": null,
   "id": "d4a088c8",
   "metadata": {},
   "outputs": [],
   "source": [
    "# Estimate the IV regression model using the fit() method:\n",
    "\n",
    "results = model.fit()"
   ]
  },
  {
   "cell_type": "code",
   "execution_count": null,
   "id": "9e0c53d4",
   "metadata": {},
   "outputs": [],
   "source": [
    "# Perform the Durbin-Wu-Hausman test using the wu_hausman attribute of the model results:\n",
    "\n",
    "hausman_test = IVWuHausman(results)\n",
    "p_value = hausman_test.pval"
   ]
  },
  {
   "cell_type": "markdown",
   "id": "593bbd3b",
   "metadata": {},
   "source": [
    "The p-value obtained from the Durbin-Wu-Hausman test is used to assess the presence of endogeneity. If the p-value is below a certain significance level (e.g., 0.05), it suggests evidence of endogeneity, and the IV estimator is preferred over the OLS estimator."
   ]
  },
  {
   "cell_type": "markdown",
   "id": "43465139",
   "metadata": {},
   "source": [
    "# Conclusion:\n",
    "The Durbin-Wu-Hausman test is a valuable statistical test for assessing the presence of endogeneity in regression models. By performing this test, you can evaluate whether the independent variables are correlated with the error term and determine the appropriate estimator (IV or OLS) to address endogeneity. Python, with the linearmodels library, provides a convenient way to conduct the Durbin-Wu-Hausman test and improve the validity of your regression analysis"
   ]
  },
  {
   "cell_type": "code",
   "execution_count": null,
   "id": "2fe458f4",
   "metadata": {},
   "outputs": [],
   "source": []
  },
  {
   "cell_type": "code",
   "execution_count": null,
   "id": "931bf4ae",
   "metadata": {},
   "outputs": [],
   "source": [
    "pip install linearmodels"
   ]
  },
  {
   "cell_type": "code",
   "execution_count": 7,
   "id": "116c2e23",
   "metadata": {},
   "outputs": [
    {
     "ename": "ImportError",
     "evalue": "cannot import name 'IVWuHausman' from 'linearmodels.tests' (C:\\Users\\shree\\anaconda3\\lib\\site-packages\\linearmodels\\tests\\__init__.py)",
     "output_type": "error",
     "traceback": [
      "\u001b[1;31m---------------------------------------------------------------------------\u001b[0m",
      "\u001b[1;31mImportError\u001b[0m                               Traceback (most recent call last)",
      "\u001b[1;32m~\\AppData\\Local\\Temp\\ipykernel_20600\\2815349195.py\u001b[0m in \u001b[0;36m<module>\u001b[1;34m\u001b[0m\n\u001b[0;32m      2\u001b[0m \u001b[1;32mimport\u001b[0m \u001b[0mpandas\u001b[0m \u001b[1;32mas\u001b[0m \u001b[0mpd\u001b[0m\u001b[1;33m\u001b[0m\u001b[1;33m\u001b[0m\u001b[0m\n\u001b[0;32m      3\u001b[0m \u001b[1;32mfrom\u001b[0m \u001b[0mlinearmodels\u001b[0m\u001b[1;33m.\u001b[0m\u001b[0miv\u001b[0m \u001b[1;32mimport\u001b[0m \u001b[0mIV2SLS\u001b[0m\u001b[1;33m\u001b[0m\u001b[1;33m\u001b[0m\u001b[0m\n\u001b[1;32m----> 4\u001b[1;33m \u001b[1;32mfrom\u001b[0m \u001b[0mlinearmodels\u001b[0m\u001b[1;33m.\u001b[0m\u001b[0mtests\u001b[0m \u001b[1;32mimport\u001b[0m \u001b[0mIVWuHausman\u001b[0m\u001b[1;33m\u001b[0m\u001b[1;33m\u001b[0m\u001b[0m\n\u001b[0m",
      "\u001b[1;31mImportError\u001b[0m: cannot import name 'IVWuHausman' from 'linearmodels.tests' (C:\\Users\\shree\\anaconda3\\lib\\site-packages\\linearmodels\\tests\\__init__.py)"
     ]
    }
   ],
   "source": [
    "import numpy as np\n",
    "import pandas as pd\n",
    "from linearmodels.iv import IV2SLS\n",
    "from linearmodels.tests import IVWuHausman\n"
   ]
  },
  {
   "cell_type": "code",
   "execution_count": 4,
   "id": "ed00d8ce",
   "metadata": {},
   "outputs": [
    {
     "ename": "NameError",
     "evalue": "name 'df' is not defined",
     "output_type": "error",
     "traceback": [
      "\u001b[1;31m---------------------------------------------------------------------------\u001b[0m",
      "\u001b[1;31mNameError\u001b[0m                                 Traceback (most recent call last)",
      "\u001b[1;32m~\\AppData\\Local\\Temp\\ipykernel_20600\\2537723906.py\u001b[0m in \u001b[0;36m<module>\u001b[1;34m\u001b[0m\n\u001b[1;32m----> 1\u001b[1;33m \u001b[0mendog_var\u001b[0m \u001b[1;33m=\u001b[0m \u001b[0mdf\u001b[0m\u001b[1;33m[\u001b[0m\u001b[1;34m\"dependent_var\"\u001b[0m\u001b[1;33m]\u001b[0m\u001b[1;33m\u001b[0m\u001b[1;33m\u001b[0m\u001b[0m\n\u001b[0m\u001b[0;32m      2\u001b[0m \u001b[0mexog_vars\u001b[0m \u001b[1;33m=\u001b[0m \u001b[0mdf\u001b[0m\u001b[1;33m[\u001b[0m\u001b[1;33m[\u001b[0m\u001b[1;34m\"independent_var1\"\u001b[0m\u001b[1;33m,\u001b[0m \u001b[1;34m\"independent_var2\"\u001b[0m\u001b[1;33m,\u001b[0m \u001b[1;33m...\u001b[0m\u001b[1;33m]\u001b[0m\u001b[1;33m]\u001b[0m\u001b[1;33m\u001b[0m\u001b[1;33m\u001b[0m\u001b[0m\n\u001b[0;32m      3\u001b[0m \u001b[0minstruments\u001b[0m \u001b[1;33m=\u001b[0m \u001b[0mdf\u001b[0m\u001b[1;33m[\u001b[0m\u001b[1;33m[\u001b[0m\u001b[1;34m\"instrument1\"\u001b[0m\u001b[1;33m,\u001b[0m \u001b[1;34m\"instrument2\"\u001b[0m\u001b[1;33m,\u001b[0m \u001b[1;33m...\u001b[0m\u001b[1;33m]\u001b[0m\u001b[1;33m]\u001b[0m\u001b[1;33m\u001b[0m\u001b[1;33m\u001b[0m\u001b[0m\n\u001b[0;32m      4\u001b[0m \u001b[0mmodel\u001b[0m \u001b[1;33m=\u001b[0m \u001b[0mIV2SLS\u001b[0m\u001b[1;33m(\u001b[0m\u001b[0mendog_var\u001b[0m\u001b[1;33m,\u001b[0m \u001b[0mexog_vars\u001b[0m\u001b[1;33m,\u001b[0m \u001b[0minstruments\u001b[0m\u001b[1;33m)\u001b[0m\u001b[1;33m\u001b[0m\u001b[1;33m\u001b[0m\u001b[0m\n",
      "\u001b[1;31mNameError\u001b[0m: name 'df' is not defined"
     ]
    }
   ],
   "source": [
    "endog_var = df[\"dependent_var\"]\n",
    "exog_vars = df[[\"independent_var1\", \"independent_var2\", ...]]\n",
    "instruments = df[[\"instrument1\", \"instrument2\", ...]]\n",
    "model = IV2SLS(endog_var, exog_vars, instruments)\n"
   ]
  },
  {
   "cell_type": "code",
   "execution_count": null,
   "id": "2f73421a",
   "metadata": {},
   "outputs": [],
   "source": []
  }
 ],
 "metadata": {
  "kernelspec": {
   "display_name": "Python 3 (ipykernel)",
   "language": "python",
   "name": "python3"
  },
  "language_info": {
   "codemirror_mode": {
    "name": "ipython",
    "version": 3
   },
   "file_extension": ".py",
   "mimetype": "text/x-python",
   "name": "python",
   "nbconvert_exporter": "python",
   "pygments_lexer": "ipython3",
   "version": "3.9.13"
  }
 },
 "nbformat": 4,
 "nbformat_minor": 5
}
