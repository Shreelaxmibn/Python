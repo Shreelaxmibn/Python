{
 "cells": [
  {
   "cell_type": "markdown",
   "id": "98160da5",
   "metadata": {},
   "source": [
    "# Pandas Group Operations\n",
    "Let's next go over grouped operations with pandas. This section of the pandas library does not have as much feature bloat as other parts, which is nice. And the community is starting to narrow around a couple of operations that are core to grouped operations. We'll be going over these operations with particular emphasis on groupby and agg:\n",
    "\n",
    "groupby\n",
    "\n",
    "agg\n",
    "\n",
    "filter\n",
    "\n",
    "transform"
   ]
  },
  {
   "cell_type": "markdown",
   "id": "7f8c3661",
   "metadata": {},
   "source": [
    "Groupby\n",
    "\n",
    "A grouped operation starts by specifying which groups of data that we would want to operate over. There are many ways of making groupsm, but the tool that pandas uses to make groups of data, is groupby\n",
    "\n",
    "\n",
    "\n",
    "\n",
    "Groupby works by telling pandas a couple of columns. Pandas will look in your data and see every unique combination of the columns that you specify. Each unique combination is a group. So in this case we will have four groups: male smoker, female smoker, male non-smoker, female non-smoker.\n",
    "\n",
    "The groupby object by itself is not super important."
   ]
  },
  {
   "cell_type": "code",
   "execution_count": 1,
   "id": "90e99037",
   "metadata": {},
   "outputs": [
    {
     "name": "stdout",
     "output_type": "stream",
     "text": [
      "Group: A\n",
      "  Category  Value\n",
      "0        A     10\n",
      "2        A     15\n",
      "4        A     30\n",
      "5        A     35\n",
      "\n",
      "Group: B\n",
      "  Category  Value\n",
      "1        B     20\n",
      "3        B     25\n",
      "\n"
     ]
    }
   ],
   "source": [
    "import pandas as pd\n",
    "\n",
    "# Create a sample DataFrame\n",
    "data = {'Category': ['A', 'B', 'A', 'B', 'A', 'A'],\n",
    "        'Value': [10, 20, 15, 25, 30, 35]}\n",
    "df = pd.DataFrame(data)\n",
    "\n",
    "# Group by 'Category'\n",
    "grouped = df.groupby('Category')\n",
    "\n",
    "# Print the groups\n",
    "for name, group in grouped:\n",
    "    print(f\"Group: {name}\")\n",
    "    print(group)\n",
    "    print()"
   ]
  },
  {
   "cell_type": "markdown",
   "id": "9d5b5196",
   "metadata": {},
   "source": [
    "Agg\n",
    "\n",
    "The aggregate operation aggregates all the data in these groups into one value. You use a dictionary to specify which values you'd like. For example look below, we are asking for both the mean and the min value of the tip column for each group:"
   ]
  },
  {
   "cell_type": "code",
   "execution_count": 2,
   "id": "6cf342f1",
   "metadata": {},
   "outputs": [
    {
     "name": "stdout",
     "output_type": "stream",
     "text": [
      "Aggregation Result:\n",
      "         Value          \n",
      "           sum  mean max\n",
      "Category                \n",
      "A           90  22.5  35\n",
      "B           45  22.5  25\n"
     ]
    }
   ],
   "source": [
    "# Using the agg() function to perform aggregation operations\n",
    "result_agg = grouped.agg({'Value': ['sum', 'mean', 'max']})\n",
    "print(\"Aggregation Result:\")\n",
    "print(result_agg)"
   ]
  },
  {
   "cell_type": "markdown",
   "id": "4102be2d",
   "metadata": {},
   "source": [
    "Filter\n",
    "\n",
    "The next common group operation is a filter. This one is pretty simple, we filter out member of groups that don't meet our criteria.\n",
    "\n"
   ]
  },
  {
   "cell_type": "code",
   "execution_count": 3,
   "id": "7fc34cac",
   "metadata": {},
   "outputs": [
    {
     "name": "stdout",
     "output_type": "stream",
     "text": [
      "Filtered Groups:\n",
      "  Category  Value\n",
      "0        A     10\n",
      "1        B     20\n",
      "2        A     15\n",
      "3        B     25\n",
      "4        A     30\n",
      "5        A     35\n"
     ]
    }
   ],
   "source": [
    "# Using the filter() function to filter groups based on a condition\n",
    "filtered_groups = grouped.filter(lambda x: x['Value'].mean() > 20)\n",
    "print(\"Filtered Groups:\")\n",
    "print(filtered_groups)"
   ]
  },
  {
   "cell_type": "markdown",
   "id": "0e787fd3",
   "metadata": {},
   "source": [
    "Transform\n",
    "\n",
    "The final group operation is transform. This uses group information to apply transformations to individual data points."
   ]
  },
  {
   "cell_type": "code",
   "execution_count": 4,
   "id": "329ba1e5",
   "metadata": {},
   "outputs": [
    {
     "name": "stdout",
     "output_type": "stream",
     "text": [
      "Transformed DataFrame:\n",
      "  Category  Value  Group_Mean\n",
      "0        A     10        22.5\n",
      "1        B     20        22.5\n",
      "2        A     15        22.5\n",
      "3        B     25        22.5\n",
      "4        A     30        22.5\n",
      "5        A     35        22.5\n"
     ]
    }
   ],
   "source": [
    "# Using the transform() function to broadcast group-specific statistics to the original DataFrame\n",
    "df['Group_Mean'] = grouped['Value'].transform('mean')\n",
    "print(\"Transformed DataFrame:\")\n",
    "print(df)\n"
   ]
  },
  {
   "cell_type": "code",
   "execution_count": null,
   "id": "8a2e6993",
   "metadata": {},
   "outputs": [],
   "source": []
  },
  {
   "cell_type": "code",
   "execution_count": null,
   "id": "c79ad612",
   "metadata": {},
   "outputs": [],
   "source": []
  }
 ],
 "metadata": {
  "kernelspec": {
   "display_name": "Python 3 (ipykernel)",
   "language": "python",
   "name": "python3"
  },
  "language_info": {
   "codemirror_mode": {
    "name": "ipython",
    "version": 3
   },
   "file_extension": ".py",
   "mimetype": "text/x-python",
   "name": "python",
   "nbconvert_exporter": "python",
   "pygments_lexer": "ipython3",
   "version": "3.9.13"
  }
 },
 "nbformat": 4,
 "nbformat_minor": 5
}
