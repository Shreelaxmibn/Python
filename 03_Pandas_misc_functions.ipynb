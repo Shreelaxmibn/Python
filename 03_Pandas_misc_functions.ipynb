{
 "cells": [
  {
   "cell_type": "markdown",
   "id": "04d0b9b5",
   "metadata": {},
   "source": [
    "# isin\n",
    "The next pretty useful function is called isin. It is applied to an entire column and is very useful in selecting specific rows"
   ]
  },
  {
   "cell_type": "code",
   "execution_count": 1,
   "id": "de6e688b",
   "metadata": {},
   "outputs": [
    {
     "name": "stdout",
     "output_type": "stream",
     "text": [
      "    Fruit  Quantity\n",
      "0   Apple        10\n",
      "2  Cherry        15\n",
      "4   Grape         8\n"
     ]
    }
   ],
   "source": [
    "# isin in python\n",
    "import pandas as pd\n",
    "\n",
    "data = {'Fruit': ['Apple', 'Banana', 'Cherry', 'Orange', 'Grape'],\n",
    "        'Quantity': [10, 5, 15, 20, 8]}\n",
    "\n",
    "df = pd.DataFrame(data)\n",
    "\n",
    "fruits_to_select = ['Apple', 'Cherry', 'Grape']\n",
    "\n",
    "filtered_df = df[df['Fruit'].isin(fruits_to_select)]\n",
    "print(filtered_df)"
   ]
  },
  {
   "cell_type": "code",
   "execution_count": 2,
   "id": "f951f740",
   "metadata": {},
   "outputs": [
    {
     "name": "stdout",
     "output_type": "stream",
     "text": [
      "    Fruit  Quantity\n",
      "0   Apple        10\n",
      "2  Cherry        15\n",
      "4   Grape         8\n"
     ]
    }
   ],
   "source": [
    "# using Series\n",
    "import pandas as pd\n",
    "\n",
    "data = {'Fruit': ['Apple', 'Banana', 'Cherry', 'Orange', 'Grape'],\n",
    "        'Quantity': [10, 5, 15, 20, 8]}\n",
    "\n",
    "df = pd.DataFrame(data)\n",
    "\n",
    "fruits_to_select = pd.Series(['Apple', 'Cherry', 'Grape'])\n",
    "\n",
    "filtered_df = df[df['Fruit'].isin(fruits_to_select)]\n",
    "print(filtered_df)"
   ]
  },
  {
   "cell_type": "code",
   "execution_count": 3,
   "id": "c4425f11",
   "metadata": {},
   "outputs": [
    {
     "name": "stdout",
     "output_type": "stream",
     "text": [
      "    Fruit   Color  Quantity\n",
      "0   Apple     Red        10\n",
      "2  Cherry     Red        15\n",
      "4   Grape  Purple         8\n"
     ]
    }
   ],
   "source": [
    "import pandas as pd\n",
    "\n",
    "data = {'Fruit': ['Apple', 'Banana', 'Cherry', 'Orange', 'Grape'],\n",
    "        'Color': ['Red', 'Yellow', 'Red', 'Orange', 'Purple'],\n",
    "        'Quantity': [10, 5, 15, 20, 8]}\n",
    "\n",
    "df = pd.DataFrame(data)\n",
    "\n",
    "fruits_to_select = ['Apple', 'Cherry', 'Grape']\n",
    "colors_to_select = ['Red', 'Purple']\n",
    "\n",
    "filtered_df = df[df['Fruit'].isin(fruits_to_select) & df['Color'].isin(colors_to_select)]\n",
    "print(filtered_df)"
   ]
  },
  {
   "cell_type": "code",
   "execution_count": 6,
   "id": "6b71ea2f",
   "metadata": {},
   "outputs": [
    {
     "name": "stdout",
     "output_type": "stream",
     "text": [
      "    Fruit  Quantity\n",
      "0   Apple        10\n",
      "2  Cherry        15\n",
      "4   Grape         8\n"
     ]
    }
   ],
   "source": [
    "import pandas as pd\n",
    "\n",
    "data = {'Fruit': ['Apple', 'Banana', 'Cherry', 'Orange', 'Grape'],\n",
    "        'Quantity': [10, 5, 15, 20, 8]}\n",
    "\n",
    "df = pd.DataFrame(data)\n",
    "\n",
    "fruits_to_exclude = ['Banana', 'Orange']\n",
    "\n",
    "filtered_df = df[~df['Fruit'].isin(fruits_to_exclude)]\n",
    "print(filtered_df)"
   ]
  },
  {
   "cell_type": "markdown",
   "id": "7a674d6f",
   "metadata": {},
   "source": [
    "# drop_duplicates\n",
    "This one is a pretty useful function in a lot of respects, and it works on more than one column"
   ]
  },
  {
   "cell_type": "code",
   "execution_count": 7,
   "id": "8c9bb0ab",
   "metadata": {},
   "outputs": [
    {
     "name": "stdout",
     "output_type": "stream",
     "text": [
      "    Fruit  Quantity\n",
      "0   Apple        10\n",
      "1  Banana         5\n",
      "2  Cherry        15\n"
     ]
    }
   ],
   "source": [
    "# Drop duplicates\n",
    "import pandas as pd\n",
    "\n",
    "data = {'Fruit': ['Apple', 'Banana', 'Cherry', 'Apple', 'Banana'],\n",
    "        'Quantity': [10, 5, 15, 10, 5]}\n",
    "\n",
    "df = pd.DataFrame(data)\n",
    "\n",
    "# Remove duplicate rows based on all columns\n",
    "df_no_duplicates = df.drop_duplicates()\n",
    "print(df_no_duplicates)"
   ]
  },
  {
   "cell_type": "code",
   "execution_count": 8,
   "id": "d869ce5f",
   "metadata": {},
   "outputs": [
    {
     "name": "stdout",
     "output_type": "stream",
     "text": [
      "    Fruit   Color  Quantity\n",
      "0   Apple     Red        10\n",
      "1  Banana  Yellow         5\n",
      "2  Cherry     Red        15\n"
     ]
    }
   ],
   "source": [
    "import pandas as pd\n",
    "\n",
    "data = {'Fruit': ['Apple', 'Banana', 'Cherry', 'Apple', 'Banana'],\n",
    "        'Color': ['Red', 'Yellow', 'Red', 'Red', 'Yellow'],\n",
    "        'Quantity': [10, 5, 15, 10, 5]}\n",
    "\n",
    "df = pd.DataFrame(data)\n",
    "\n",
    "# Remove duplicate rows based on 'Fruit' and 'Color' columns\n",
    "df_no_duplicates = df.drop_duplicates(subset=['Fruit', 'Color'])\n",
    "print(df_no_duplicates)"
   ]
  },
  {
   "cell_type": "code",
   "execution_count": 9,
   "id": "f769b98b",
   "metadata": {},
   "outputs": [
    {
     "name": "stdout",
     "output_type": "stream",
     "text": [
      "    Fruit  Quantity\n",
      "0   Apple        10\n",
      "1  Banana         5\n",
      "2  Cherry        15\n"
     ]
    }
   ],
   "source": [
    "import pandas as pd\n",
    "\n",
    "data = {'Fruit': ['Apple', 'Banana', 'Cherry', 'Apple', 'Banana'],\n",
    "        'Quantity': [10, 5, 15, 10, 5]}\n",
    "\n",
    "df = pd.DataFrame(data)\n",
    "\n",
    "# Keep the first occurrence and remove subsequent duplicates\n",
    "df_no_duplicates = df.drop_duplicates(keep='first')\n",
    "print(df_no_duplicates)"
   ]
  },
  {
   "cell_type": "code",
   "execution_count": 10,
   "id": "818178e5",
   "metadata": {},
   "outputs": [
    {
     "name": "stdout",
     "output_type": "stream",
     "text": [
      "    Fruit  Quantity\n",
      "2  Cherry        15\n",
      "3   Apple        10\n",
      "4  Banana         5\n"
     ]
    }
   ],
   "source": [
    "import pandas as pd\n",
    "\n",
    "data = {'Fruit': ['Apple', 'Banana', 'Cherry', 'Apple', 'Banana'],\n",
    "        'Quantity': [10, 5, 15, 10, 5]}\n",
    "\n",
    "df = pd.DataFrame(data)\n",
    "\n",
    "# Keep the last occurrence and remove previous duplicates\n",
    "df_no_duplicates = df.drop_duplicates(keep='last')\n",
    "print(df_no_duplicates)"
   ]
  },
  {
   "cell_type": "markdown",
   "id": "136f7704",
   "metadata": {},
   "source": [
    "# cut\n",
    "This will cut your numeric data into equal buckets and then assign them labels depending on the bucket. Pretty useful and if you need something more granular you can use qcut."
   ]
  },
  {
   "cell_type": "code",
   "execution_count": 11,
   "id": "520fd9f8",
   "metadata": {},
   "outputs": [
    {
     "name": "stdout",
     "output_type": "stream",
     "text": [
      "   Age Age_Category\n",
      "0   25        Young\n",
      "1   35  Middle-aged\n",
      "2   45  Middle-aged\n",
      "3   55  Middle-aged\n",
      "4   65       Senior\n",
      "5   75       Senior\n",
      "6   85       Senior\n"
     ]
    }
   ],
   "source": [
    "import pandas as pd\n",
    "\n",
    "data = {'Age': [25, 35, 45, 55, 65, 75, 85]}\n",
    "df = pd.DataFrame(data)\n",
    "\n",
    "# Create bins (age categories) for the 'Age' column\n",
    "bins = [0, 30, 60, 90]\n",
    "labels = ['Young', 'Middle-aged', 'Senior']\n",
    "\n",
    "df['Age_Category'] = pd.cut(df['Age'], bins=bins, labels=labels)\n",
    "print(df)"
   ]
  },
  {
   "cell_type": "code",
   "execution_count": 13,
   "id": "4a0c26f2",
   "metadata": {},
   "outputs": [
    {
     "name": "stdout",
     "output_type": "stream",
     "text": [
      "   Height (inches) Height_Category\n",
      "0               60             NaN\n",
      "1               63    (60.0, 65.0]\n",
      "2               67    (65.0, 70.0]\n",
      "3               71    (70.0, 75.0]\n",
      "4               74    (70.0, 75.0]\n",
      "5               77    (75.0, 80.0]\n"
     ]
    }
   ],
   "source": [
    "import pandas as pd\n",
    "\n",
    "data = {'Height (inches)': [60, 63, 67, 71, 74, 77]}\n",
    "df = pd.DataFrame(data)\n",
    "\n",
    "# Create custom bins for 'Height' column\n",
    "custom_bins = [60, 65, 70, 75, 80]\n",
    "\n",
    "df['Height_Category'] = pd.cut(df['Height (inches)'], bins=custom_bins)\n",
    "print(df)"
   ]
  },
  {
   "cell_type": "code",
   "execution_count": 15,
   "id": "1de394cf",
   "metadata": {},
   "outputs": [
    {
     "name": "stdout",
     "output_type": "stream",
     "text": [
      "   Score Score_Category\n",
      "0     70    [0.0, 80.0)\n",
      "1     80   [80.0, 90.0)\n",
      "2     90  [90.0, 100.0)\n",
      "3     95  [90.0, 100.0)\n",
      "4    100            NaN\n"
     ]
    }
   ],
   "source": [
    "import pandas as pd\n",
    "\n",
    "data = {'Score': [70, 80, 90, 95, 100]}\n",
    "df = pd.DataFrame(data)\n",
    "\n",
    "# Create right-inclusive bins for 'Score' column\n",
    "bins = [0, 80, 90, 100]\n",
    "\n",
    "df['Score_Category'] = pd.cut(df['Score'], bins=bins, right=False)\n",
    "print(df)"
   ]
  },
  {
   "cell_type": "code",
   "execution_count": null,
   "id": "e6a81964",
   "metadata": {},
   "outputs": [],
   "source": [
    "import pandas as pd\n",
    "\n",
    "data = {'Score': [70, 80, 90, 95, 100]}\n",
    "df = pd.DataFrame(data)\n",
    "\n",
    "# Create right-inclusive bins for 'Score' column\n",
    "bins = [0, 80, 90, 100]\n",
    "\n",
    "df['Score_Category'] = pd.cut(df['Score'], bins=bins, right=False)\n",
    "print(df)"
   ]
  },
  {
   "cell_type": "markdown",
   "id": "603c7840",
   "metadata": {},
   "source": [
    "# corr\n",
    "Calculate correlation. Pretty straightforward"
   ]
  },
  {
   "cell_type": "code",
   "execution_count": 24,
   "id": "4a83ff82",
   "metadata": {},
   "outputs": [
    {
     "name": "stdout",
     "output_type": "stream",
     "text": [
      "          A         B         C\n",
      "A  1.000000 -1.000000  0.755929\n",
      "B -1.000000  1.000000 -0.755929\n",
      "C  0.755929 -0.755929  1.000000\n"
     ]
    }
   ],
   "source": [
    "import pandas as pd\n",
    "\n",
    "# Create a sample DataFrame\n",
    "data = {'A': [1, 2, 3, 4, 5],\n",
    "        'B': [5, 4, 3, 2, 1],\n",
    "        'C': [2, 3, 2, 3, 4]}\n",
    "\n",
    "df = pd.DataFrame(data)\n",
    "\n",
    "# Calculate the correlation matrix between columns\n",
    "correlation_matrix = df.corr()\n",
    "\n",
    "print(correlation_matrix)"
   ]
  },
  {
   "cell_type": "code",
   "execution_count": 26,
   "id": "f459144d",
   "metadata": {},
   "outputs": [
    {
     "name": "stdout",
     "output_type": "stream",
     "text": [
      "   Score  Rank\n",
      "0     85   2.0\n",
      "1     90   4.0\n",
      "2     78   1.0\n",
      "3     92   5.0\n",
      "4     88   3.0\n"
     ]
    }
   ],
   "source": [
    "import pandas as pd\n",
    "\n",
    "data = {'Score': [85, 90, 78, 92, 88]}\n",
    "df = pd.DataFrame(data)\n",
    "\n",
    "# Calculate the rank of each entry in the 'Score' column\n",
    "df['Rank'] = df['Score'].rank()\n",
    "print(df)"
   ]
  },
  {
   "cell_type": "code",
   "execution_count": 27,
   "id": "1d8dab39",
   "metadata": {},
   "outputs": [
    {
     "name": "stdout",
     "output_type": "stream",
     "text": [
      "   Score  Rank_Min  Rank_Max  Rank_First\n",
      "0     85       2.0       2.0         2.0\n",
      "1     90       3.0       4.0         3.0\n",
      "2     78       1.0       1.0         1.0\n",
      "3     92       5.0       5.0         5.0\n",
      "4     90       3.0       4.0         4.0\n"
     ]
    }
   ],
   "source": [
    "import pandas as pd\n",
    "\n",
    "data = {'Score': [85, 90, 78, 92, 90]}\n",
    "df = pd.DataFrame(data)\n",
    "\n",
    "# Calculate the rank of each entry in the 'Score' column using the 'min' method\n",
    "df['Rank_Min'] = df['Score'].rank(method='min')\n",
    "\n",
    "# Calculate the rank of each entry in the 'Score' column using the 'max' method\n",
    "df['Rank_Max'] = df['Score'].rank(method='max')\n",
    "\n",
    "# Calculate the rank of each entry in the 'Score' column using the 'first' method\n",
    "df['Rank_First'] = df['Score'].rank(method='first')\n",
    "\n",
    "print(df)"
   ]
  },
  {
   "cell_type": "markdown",
   "id": "2810f9a3",
   "metadata": {},
   "source": [
    "# rename\n",
    "Rename while not completely needed, is a nice convienience funtion. You can rename columns or indexes."
   ]
  },
  {
   "cell_type": "code",
   "execution_count": 28,
   "id": "20d2ab7a",
   "metadata": {},
   "outputs": [
    {
     "name": "stdout",
     "output_type": "stream",
     "text": [
      "   X  Y\n",
      "0  1  4\n",
      "1  2  5\n",
      "2  3  6\n"
     ]
    }
   ],
   "source": [
    "import pandas as pd\n",
    "\n",
    "data = {'A': [1, 2, 3], 'B': [4, 5, 6]}\n",
    "df = pd.DataFrame(data)\n",
    "\n",
    "# Rename column 'A' to 'X' and column 'B' to 'Y'\n",
    "df = df.rename(columns={'A': 'X', 'B': 'Y'})\n",
    "print(df)"
   ]
  },
  {
   "cell_type": "code",
   "execution_count": 30,
   "id": "48f39c45",
   "metadata": {},
   "outputs": [
    {
     "data": {
      "text/html": [
       "<div>\n",
       "<style scoped>\n",
       "    .dataframe tbody tr th:only-of-type {\n",
       "        vertical-align: middle;\n",
       "    }\n",
       "\n",
       "    .dataframe tbody tr th {\n",
       "        vertical-align: top;\n",
       "    }\n",
       "\n",
       "    .dataframe thead th {\n",
       "        text-align: right;\n",
       "    }\n",
       "</style>\n",
       "<table border=\"1\" class=\"dataframe\">\n",
       "  <thead>\n",
       "    <tr style=\"text-align: right;\">\n",
       "      <th></th>\n",
       "      <th>X</th>\n",
       "      <th>Y</th>\n",
       "    </tr>\n",
       "  </thead>\n",
       "  <tbody>\n",
       "    <tr>\n",
       "      <th>0</th>\n",
       "      <td>1</td>\n",
       "      <td>4</td>\n",
       "    </tr>\n",
       "    <tr>\n",
       "      <th>1</th>\n",
       "      <td>2</td>\n",
       "      <td>5</td>\n",
       "    </tr>\n",
       "    <tr>\n",
       "      <th>2</th>\n",
       "      <td>3</td>\n",
       "      <td>6</td>\n",
       "    </tr>\n",
       "  </tbody>\n",
       "</table>\n",
       "</div>"
      ],
      "text/plain": [
       "   X  Y\n",
       "0  1  4\n",
       "1  2  5\n",
       "2  3  6"
      ]
     },
     "execution_count": 30,
     "metadata": {},
     "output_type": "execute_result"
    }
   ],
   "source": [
    "df"
   ]
  },
  {
   "cell_type": "code",
   "execution_count": 32,
   "id": "c6b2310a",
   "metadata": {},
   "outputs": [
    {
     "data": {
      "text/html": [
       "<div>\n",
       "<style scoped>\n",
       "    .dataframe tbody tr th:only-of-type {\n",
       "        vertical-align: middle;\n",
       "    }\n",
       "\n",
       "    .dataframe tbody tr th {\n",
       "        vertical-align: top;\n",
       "    }\n",
       "\n",
       "    .dataframe thead th {\n",
       "        text-align: right;\n",
       "    }\n",
       "</style>\n",
       "<table border=\"1\" class=\"dataframe\">\n",
       "  <thead>\n",
       "    <tr style=\"text-align: right;\">\n",
       "      <th></th>\n",
       "      <th>A</th>\n",
       "      <th>B</th>\n",
       "    </tr>\n",
       "  </thead>\n",
       "  <tbody>\n",
       "    <tr>\n",
       "      <th>0</th>\n",
       "      <td>1</td>\n",
       "      <td>4</td>\n",
       "    </tr>\n",
       "    <tr>\n",
       "      <th>1</th>\n",
       "      <td>2</td>\n",
       "      <td>5</td>\n",
       "    </tr>\n",
       "    <tr>\n",
       "      <th>2</th>\n",
       "      <td>3</td>\n",
       "      <td>6</td>\n",
       "    </tr>\n",
       "  </tbody>\n",
       "</table>\n",
       "</div>"
      ],
      "text/plain": [
       "   A  B\n",
       "0  1  4\n",
       "1  2  5\n",
       "2  3  6"
      ]
     },
     "execution_count": 32,
     "metadata": {},
     "output_type": "execute_result"
    }
   ],
   "source": [
    "import pandas as pd\n",
    "\n",
    "data = {'A': [1, 2, 3], 'B': [4, 5, 6]}\n",
    "df = pd.DataFrame(data)\n",
    "\n",
    "df"
   ]
  },
  {
   "cell_type": "code",
   "execution_count": 33,
   "id": "4ea083dc",
   "metadata": {},
   "outputs": [
    {
     "name": "stdout",
     "output_type": "stream",
     "text": [
      "       A  B\n",
      "Row 1  1  4\n",
      "Row 2  2  5\n",
      "Row 3  3  6\n"
     ]
    }
   ],
   "source": [
    "# Rename the index to 'Row 1', 'Row 2', 'Row 3'\n",
    "df = df.rename(index={0: 'Row 1', 1: 'Row 2', 2: 'Row 3'})\n",
    "print(df)"
   ]
  },
  {
   "cell_type": "code",
   "execution_count": 34,
   "id": "7659c96a",
   "metadata": {},
   "outputs": [
    {
     "name": "stdout",
     "output_type": "stream",
     "text": [
      "       X  Y\n",
      "Row 1  1  4\n",
      "Row 2  2  5\n",
      "Row 3  3  6\n"
     ]
    }
   ],
   "source": [
    "import pandas as pd\n",
    "\n",
    "data = {'A': [1, 2, 3], 'B': [4, 5, 6]}\n",
    "df = pd.DataFrame(data)\n",
    "\n",
    "# Rename column 'A' to 'X' and column 'B' to 'Y',\n",
    "# and rename the index to 'Row 1', 'Row 2', 'Row 3'\n",
    "df = df.rename(columns={'A': 'X', 'B': 'Y'}, index={0: 'Row 1', 1: 'Row 2', 2: 'Row 3'})\n",
    "print(df)"
   ]
  },
  {
   "cell_type": "markdown",
   "id": "d2f1fca1",
   "metadata": {},
   "source": [
    "# itertuples\n",
    "There are a couple of iteraters for dataframes. I would very much so caution you to not use these unless you are really sure that you know what you are doing. These are not very fast compared to many functions, but when working with a small dataframe this can be really useful."
   ]
  },
  {
   "cell_type": "code",
   "execution_count": 35,
   "id": "c7d3c97a",
   "metadata": {},
   "outputs": [
    {
     "name": "stdout",
     "output_type": "stream",
     "text": [
      "Name: Alice, Age: 25\n",
      "Name: Bob, Age: 30\n",
      "Name: Charlie, Age: 35\n"
     ]
    }
   ],
   "source": [
    "import pandas as pd\n",
    "\n",
    "data = {'Name': ['Alice', 'Bob', 'Charlie'],\n",
    "        'Age': [25, 30, 35]}\n",
    "\n",
    "df = pd.DataFrame(data)\n",
    "\n",
    "# Using itertuples to iterate over rows\n",
    "for row in df.itertuples():\n",
    "    print(f\"Name: {row.Name}, Age: {row.Age}\")"
   ]
  },
  {
   "cell_type": "code",
   "execution_count": null,
   "id": "7bf74967",
   "metadata": {},
   "outputs": [],
   "source": []
  }
 ],
 "metadata": {
  "kernelspec": {
   "display_name": "Python 3 (ipykernel)",
   "language": "python",
   "name": "python3"
  },
  "language_info": {
   "codemirror_mode": {
    "name": "ipython",
    "version": 3
   },
   "file_extension": ".py",
   "mimetype": "text/x-python",
   "name": "python",
   "nbconvert_exporter": "python",
   "pygments_lexer": "ipython3",
   "version": "3.9.13"
  }
 },
 "nbformat": 4,
 "nbformat_minor": 5
}
